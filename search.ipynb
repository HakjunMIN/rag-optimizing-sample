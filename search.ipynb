{
 "cells": [
  {
   "cell_type": "markdown",
   "metadata": {},
   "source": [
    "# RAG 최적화\n",
    "\n",
    "## 점수 출력 Helper"
   ]
  },
  {
   "cell_type": "code",
   "execution_count": 1,
   "metadata": {},
   "outputs": [],
   "source": [
    "from azure.search.documents import SearchItemPaged\n",
    "\n",
    "def print_results(results: SearchItemPaged[dict]):\n",
    "    semantic_answers = results.get_answers()\n",
    "    if semantic_answers:\n",
    "        for answer in semantic_answers:\n",
    "            if answer.highlights:\n",
    "                print(f\"Semantic Answer: {answer.highlights}\")\n",
    "            else:\n",
    "                print(f\"Semantic Answer: {answer.text}\")\n",
    "            print(f\"Semantic Answer Score: {answer.score}\\n\")\n",
    "\n",
    "    for result in results:\n",
    "        # print(f\"Title: {result['title']}\")  \n",
    "        print(f\"Score: {result['@search.score']}\")\n",
    "        if result.get('@search.reranker_score'):\n",
    "            print(f\"Reranker Score: {result['@search.reranker_score']}\")\n",
    "        print(f\"Content: {result['main_text']}\")  \n",
    "        # print(f\"Category: {result['new_product_name']}\\n\")\n",
    "\n",
    "        captions = result[\"@search.captions\"]\n",
    "        if captions:\n",
    "            caption = captions[0]\n",
    "            if caption.highlights:\n",
    "                print(f\"Caption: {caption.highlights}\\n\")\n",
    "            else:\n",
    "                print(f\"Caption: {caption.text}\\n\")\n",
    "        print(\"-\" * 200)"
   ]
  },
  {
   "cell_type": "markdown",
   "metadata": {},
   "source": [
    "## 환경 변수"
   ]
  },
  {
   "cell_type": "code",
   "execution_count": 12,
   "metadata": {},
   "outputs": [],
   "source": [
    "from openai import AzureOpenAI\n",
    "from azure.core.credentials import AzureKeyCredential\n",
    "from azure.search.documents.models import (\n",
    "    VectorizedQuery,\n",
    "    SearchScoreThreshold,\n",
    "    VectorSimilarityThreshold,\n",
    "    QueryType, \n",
    "    QueryAnswerType,\n",
    "    QueryCaptionType,\n",
    "    QueryDebugMode\n",
    ")\n",
    "from azure.search.documents import SearchClient\n",
    "from dotenv import load_dotenv\n",
    "\n",
    "import os\n",
    "load_dotenv(override=True)   \n",
    "\n",
    "search_endpoint = os.getenv(\"AZURE_SEARCH_SERVICE_ENDPOINT\")\n",
    "index_name = os.getenv(\"AZURE_SEARCH_INDEX\")\n",
    "admin_key = os.getenv(\"AZURE_SEARCH_ADMIN_KEY\")\n",
    "openai_endpoint = os.getenv(\"AZURE_OPENAI_ENDPOINT\")\n",
    "openai_key = os.getenv(\"AZURE_OPENAI_KEY\")\n",
    "ada002_deployment = os.getenv(\"AZURE_OPENAI_ADA002_EMBEDDING_DEPLOYMENT\")\n",
    "large3_deployment = os.getenv(\"AZURE_OPENAI_3_LARGE_EMBEDDING_DEPLOYMENT\")\n",
    "gpt_deployment = os.getenv(\"AZURE_OPENAI_GPT_DEPLOYMENT\")\n",
    "ai_project_conn_str = os.getenv(\"AZURE_AI_PROJECT_CONN_STR\")\n",
    "\n",
    "QUERIES_FILE = \"queries_low_score2.json\"\n",
    "\n",
    "print(f\"search_endpoint: {search_endpoint}\")\n"
   ]
  },
  {
   "cell_type": "code",
   "execution_count": 13,
   "metadata": {},
   "outputs": [],
   "source": [
    "embed_client = AzureOpenAI(\n",
    "    azure_deployment=ada002_deployment,\n",
    "    api_version=\"2023-05-15\",\n",
    "    azure_endpoint=openai_endpoint,\n",
    "    api_key=openai_key,\n",
    ")\n",
    "\n",
    "embed3_client = AzureOpenAI(\n",
    "    azure_deployment=large3_deployment,\n",
    "    api_version=\"2023-05-15\",\n",
    "    azure_endpoint=openai_endpoint,\n",
    "    api_key=openai_key,\n",
    ")\n",
    "\n",
    "search_client = SearchClient(endpoint=search_endpoint, index_name=index_name, credential=AzureKeyCredential(admin_key))\n",
    "\n",
    "with open('main_prompt_plain.txt', 'r') as file:\n",
    "    prompt_template = file.read()\n"
   ]
  },
  {
   "cell_type": "markdown",
   "metadata": {},
   "source": [
    "### Vectory only"
   ]
  },
  {
   "cell_type": "code",
   "execution_count": 14,
   "metadata": {},
   "outputs": [],
   "source": [
    "def search_query(embedding, product_group_code, query_text=None, vector_field=\"main_text_vector\"):\n",
    "    vector_query = VectorizedQuery(vector=embedding, k_nearest_neighbors=50, fields=vector_field, \n",
    "                                #    threshold=VectorSimilarityThreshold(value=0.84)\n",
    "                                   )\n",
    "\n",
    "    results = search_client.search(\n",
    "        search_text=query_text,\n",
    "        vector_queries=[vector_query],\n",
    "        filter=f\"product_group_code eq '{product_group_code}'\",\n",
    "        top=3\n",
    "    )\n",
    "    return results"
   ]
  },
  {
   "cell_type": "markdown",
   "metadata": {},
   "source": [
    "### Vector Search with Semantic Reranker"
   ]
  },
  {
   "cell_type": "code",
   "execution_count": 25,
   "metadata": {},
   "outputs": [],
   "source": [
    "def search_query(embedding, product_group_code, query_text = None, vector_field=\"main_text_vector\"):\n",
    "    vector_query = VectorizedQuery(vector=embedding, k_nearest_neighbors=50, fields=vector_field,\n",
    "                                #    threshold=VectorSimilarityThreshold(value=0.84)\n",
    "                                   )\n",
    "\n",
    "    results = search_client.search(\n",
    "        search_text=query_text,\n",
    "        vector_queries=[vector_query],\n",
    "        filter=f\"product_group_code eq '{product_group_code}'\",\n",
    "        query_type=QueryType.SEMANTIC,\n",
    "        semantic_configuration_name=\"my-semantic-config\",\n",
    "        query_language=\"en\",\n",
    "        query_caption=QueryCaptionType.EXTRACTIVE,\n",
    "        query_answer=QueryAnswerType.EXTRACTIVE,    \n",
    "        top=3\n",
    "    )\n",
    "    return results"
   ]
  },
  {
   "cell_type": "markdown",
   "metadata": {},
   "source": [
    "### Hybrid BM25 + Vector Search (with Query Rewrite)"
   ]
  },
  {
   "cell_type": "code",
   "execution_count": null,
   "metadata": {},
   "outputs": [],
   "source": [
    "def search_query(embedding, product_group_code, query_text = None, vector_field=\"main_text_vector\"):\n",
    "    vector_query = VectorizedQuery(vector=embedding, k_nearest_neighbors=50, fields=vector_field, \n",
    "                                   threshold=VectorSimilarityThreshold(value=0.78)\n",
    "                                   )\n",
    "\n",
    "    results = search_client.search(\n",
    "        search_text=query_text,\n",
    "        # search_text=None, # use No-BM25 search\n",
    "        vector_queries=[vector_query],\n",
    "        filter=f\"product_group_code eq '{product_group_code}'\",\n",
    "        query_type=QueryType.SEMANTIC,\n",
    "        semantic_configuration_name=\"my-semantic-config\",\n",
    "        query_language=\"en\",\n",
    "        query_rewrites=\"generative|count-5\",\n",
    "        debug=QueryDebugMode.QUERY_REWRITES,\n",
    "        query_caption=QueryCaptionType.EXTRACTIVE,\n",
    "        query_answer=QueryAnswerType.EXTRACTIVE,    \n",
    "        top=3\n",
    "    )\n",
    "    return results"
   ]
  },
  {
   "cell_type": "markdown",
   "metadata": {},
   "source": [
    "### Embedding ada 2"
   ]
  },
  {
   "cell_type": "code",
   "execution_count": 15,
   "metadata": {},
   "outputs": [],
   "source": [
    "import json\n",
    "\n",
    "def get_embedding(query):\n",
    "    return embed_client.embeddings.create(input=[query], model=ada002_deployment).data[0].embedding\n",
    "\n",
    "documents = []\n",
    "query_document = []\n",
    "\n",
    "with open(QUERIES_FILE, 'r') as f:\n",
    "    queries = json.load(f)\n",
    "\n",
    "for query in queries:\n",
    "    # print(query['query'])\n",
    "    embedding = get_embedding(query['query'])\n",
    "    product_group_code = query['product_group_code']\n",
    "    results = search_query(embedding, product_group_code)    \n",
    "    for res in results:\n",
    "        documents.append(res['main_text'])\n",
    "    document_content = \"\\n\".join(documents)\n",
    "    query_document.append({\"query\": query['query'], \"document_content\": document_content})\n",
    "    # print(document_content)\n",
    "\n",
    "with open('queries_contexts.json', 'w') as outfile:\n",
    "    json.dump(query_document, outfile, ensure_ascii=False, indent=4)\n",
    "    \n"
   ]
  },
  {
   "cell_type": "markdown",
   "metadata": {},
   "source": [
    "### Embedding large 3"
   ]
  },
  {
   "cell_type": "code",
   "execution_count": 32,
   "metadata": {},
   "outputs": [],
   "source": [
    "import json\n",
    "\n",
    "def get_embedding3(query):\n",
    "    return embed3_client.embeddings.create(input=[query], model=large3_deployment).data[0].embedding\n",
    "\n",
    "documents = []\n",
    "query_document = []\n",
    "\n",
    "with open(QUERIES_FILE, 'r') as f:\n",
    "    queries = json.load(f)\n",
    "\n",
    "for query in queries:\n",
    "    # print(query['query'])\n",
    "    embedding = get_embedding3(query['query'])\n",
    "    product_group_code = query['product_group_code']\n",
    "    results = search_query(embedding, product_group_code, query_text=query['query'], vector_field=\"main_text_vector_3\")\n",
    "    for res in results:\n",
    "        documents.append(res['main_text'])\n",
    "    document_content = \"\\n\".join(documents)\n",
    "    query_document.append({\"query\": query['query'], \"document_content\": document_content})\n",
    "    print(document_content)\n",
    "\n",
    "with open('queries_contexts.json', 'w') as outfile:\n",
    "    json.dump(query_document, outfile, ensure_ascii=False, indent=4)\n",
    "    \n"
   ]
  },
  {
   "cell_type": "markdown",
   "metadata": {},
   "source": [
    "### RAG Orchestrator\n",
    "\n",
    "이 셀 이후 모두 실행"
   ]
  },
  {
   "cell_type": "code",
   "execution_count": 33,
   "metadata": {},
   "outputs": [],
   "source": [
    "def process_llm(query, document_content):\n",
    "    openai_client = AzureOpenAI(\n",
    "        azure_deployment=gpt_deployment,\n",
    "        api_version=\"2024-10-21\",\n",
    "        azure_endpoint=openai_endpoint,\n",
    "        api_key=openai_key,\n",
    "    )\n",
    "\n",
    "    prompt = prompt_template.replace(\"{question}\", query)\n",
    "    prompt = prompt.replace(\"{document}\", document_content)\n",
    "    response = openai_client.chat.completions.create(\n",
    "        model=gpt_deployment,\n",
    "        messages=[\n",
    "            {\"role\": \"system\", \"content\": \"You are a helpful assistant.\"},\n",
    "            {\"role\": \"user\", \"content\": prompt}\n",
    "        ]\n",
    "    )\n",
    "\n",
    "    answer = response.choices[0].message.content.strip()\n",
    "    return answer\n",
    "\n",
    "with open('queries_contexts.json', 'r') as f:\n",
    "    queries_document = json.load(f)\n",
    "\n",
    "query_answers_contexts = []\n",
    "\n",
    "for query_doc in queries_document:\n",
    "    query = query_doc['query']\n",
    "    document_content = query_doc['document_content']\n",
    "    answer = process_llm(query, document_content) \n",
    "    # print(f\"Query: {query}\\nAnswer: {answer}\\n\")\n",
    "\n",
    "    query_answers_contexts.append({\n",
    "        \"query\": query,\n",
    "        \"document_content\": document_content,\n",
    "        \"answer\": answer\n",
    "    })\n",
    "\n",
    "with open('queries_answers.jsonl', 'w') as outfile:\n",
    "    for item in query_answers_contexts:\n",
    "        json.dump(item, outfile, ensure_ascii=False)\n",
    "        outfile.write('\\n')\n",
    "\n",
    "\n"
   ]
  },
  {
   "cell_type": "markdown",
   "metadata": {},
   "source": [
    "## Evaluate by Azure AI Evaluator\n",
    "\n",
    "질문에 대해 적절한 답변을 평가하는 Relevance Evaluator로만 평가 "
   ]
  },
  {
   "cell_type": "code",
   "execution_count": null,
   "metadata": {},
   "outputs": [
    {
     "name": "stderr",
     "output_type": "stream",
     "text": [
      "[2025-02-11 17:24:31 +0900][promptflow._core.entry_meta_generator][WARNING] - Generate meta in current process and timeout won't take effect. Please handle timeout manually outside current process.\n",
      "[2025-02-11 17:24:31 +0900][promptflow._sdk._orchestrator.run_submitter][INFO] - Submitting run azure_ai_evaluation_evaluators_common_base_eval_asyncevaluatorbase_ctb99yup_20250211_172431_776010, log path: /Users/andy/.promptflow/.runs/azure_ai_evaluation_evaluators_common_base_eval_asyncevaluatorbase_ctb99yup_20250211_172431_776010/logs.txt\n"
     ]
    }
   ],
   "source": [
    "import os\n",
    "from datetime import datetime\n",
    "from azure.ai.evaluation import (\n",
    "    evaluate, \n",
    "    FluencyEvaluator, \n",
    "    GroundednessEvaluator, \n",
    "    RelevanceEvaluator, \n",
    "    CoherenceEvaluator,\n",
    "    SimilarityEvaluator,\n",
    "\n",
    ")\n",
    "\n",
    "column_mapping = {\n",
    "    \"query\": \"${data.query}\",\n",
    "    \"context\": \"${data.document_content}\",\n",
    "    \"response\": \"${data.answer}\"\n",
    "}\n",
    "\n",
    "\n",
    "model_config = {\n",
    "    \"azure_endpoint\": openai_endpoint,\n",
    "    \"api_key\": openai_key,\n",
    "    \"azure_deployment\": gpt_deployment,\n",
    "    \"api_version\": \"2024-10-01-preview\",\n",
    "}\n",
    "\n",
    "\n",
    "fluencyEvaluator = FluencyEvaluator(model_config)\n",
    "groundednessEvaluator = GroundednessEvaluator(model_config)\n",
    "relevanceEvaluator = RelevanceEvaluator(model_config)\n",
    "coherenceEvaluator = CoherenceEvaluator(model_config)\n",
    "similarityEvaluator = SimilarityEvaluator(model_config)\n",
    "\n",
    "azure_ai_project = {\n",
    "    \"subscription_id\": os.environ.get(\"AZURE_SUBSCRIPTION_ID\"),\n",
    "    \"resource_group_name\": os.environ.get(\"AZURE_RESOURCE_GROUP_NAME\"),\n",
    "    \"project_name\": os.environ.get(\"AZURE_PROJECT_NAME\"),\n",
    "}\n",
    "\n",
    "current_time = datetime.now().strftime(\"%Y%m%d%H%M%S\")\n",
    "output_file_name = f\"evaluation_results_{current_time}.json\"\n",
    "\n",
    "result = evaluate(\n",
    "    data=\"queries_answers.jsonl\",\n",
    "    evaluators={\n",
    "        # \"fluency\": fluencyEvaluator,\n",
    "        # \"groundedness\": groundednessEvaluator,\n",
    "        \"relevance\": relevanceEvaluator,\n",
    "        # \"coherence\": coherenceEvaluator,\n",
    "        # \"similarity\": similarityEvaluator,\n",
    "    },\n",
    "    evaluator_config={\n",
    "        # \"fluency\": {\n",
    "        #     \"column_mapping\": column_mapping\n",
    "        # },\n",
    "        # \"groundedness\": {\n",
    "        #     \"column_mapping\": column_mapping\n",
    "        # },\n",
    "        \"relevance\": {\n",
    "            \"column_mapping\": column_mapping\n",
    "        },\n",
    "        # \"coherence\": {\n",
    "        #     \"column_mapping\": column_mapping\n",
    "        # },\n",
    "        # \"similarity\": {\n",
    "        #     \"column_mapping\": column_mapping\n",
    "        # }\n",
    "    },\n",
    "    azure_ai_project=azure_ai_project,\n",
    "    output_path=output_file_name\n",
    ")\n"
   ]
  },
  {
   "cell_type": "code",
   "execution_count": 35,
   "metadata": {},
   "outputs": [
    {
     "data": {
      "image/png": "[encoded data removed]",
      "text/plain": [
       "<Figure size 1000x600 with 1 Axes>"
      ]
     },
     "metadata": {},
     "output_type": "display_data"
    }
   ],
   "source": [
    "import json\n",
    "\n",
    "import matplotlib.pyplot as plt\n",
    "\n",
    "# Read the evaluation results from the JSON file\n",
    "with open(output_file_name, 'r') as f:\n",
    "    evaluation_results = json.load(f)\n",
    "\n",
    "# Extract the relevance scores\n",
    "relevance_scores = [row['outputs.relevance.relevance'] for row in evaluation_results['rows']]\n",
    "\n",
    "# Plot the relevance scores\n",
    "plt.figure(figsize=(10, 6))\n",
    "plt.hist(relevance_scores, bins=5, range=(1, 5), edgecolor='black')\n",
    "plt.title('Relevance Scores Distribution')\n",
    "plt.xlabel('Relevance Score')\n",
    "plt.ylabel('Frequency')\n",
    "plt.xticks(range(1, 6))\n",
    "plt.grid(axis='y')\n",
    "\n",
    "# Show the plot\n",
    "plt.show()"
   ]
  },
  {
   "cell_type": "markdown",
   "metadata": {},
   "source": [
    "### 3점 이하 Relevance Score 확인"
   ]
  },
  {
   "cell_type": "code",
   "execution_count": null,
   "metadata": {},
   "outputs": [],
   "source": []
  },
  {
   "cell_type": "code",
   "execution_count": null,
   "metadata": {},
   "outputs": [],
   "source": [
    "import sys\n",
    "\n",
    "low_relevance_queries = [(index, row['inputs.query']) for index, row in enumerate(evaluation_results['rows']) if row['outputs.relevance.relevance'] <= 3]\n",
    "\n",
    "for index, query in low_relevance_queries:\n",
    "    print(f\"#{index}, Query: {query}\")\n",
    "\n",
    "sys.stdout.flush()\n"
   ]
  }
 ],
 "metadata": {
  "kernelspec": {
   "display_name": ".venv",
   "language": "python",
   "name": "python3"
  },
  "language_info": {
   "codemirror_mode": {
    "name": "ipython",
    "version": 3
   },
   "file_extension": ".py",
   "mimetype": "text/x-python",
   "name": "python",
   "nbconvert_exporter": "python",
   "pygments_lexer": "ipython3",
   "version": "3.11.11"
  }
 },
 "nbformat": 4,
 "nbformat_minor": 2
}
